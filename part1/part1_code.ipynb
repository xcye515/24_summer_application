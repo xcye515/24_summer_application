{
 "cells": [
  {
   "cell_type": "code",
   "execution_count": 1,
   "metadata": {},
   "outputs": [],
   "source": [
    "import pandas as pd\n",
    "from pandas.tseries.holiday import USFederalHolidayCalendar as Calendar \n",
    "import pytz"
   ]
  },
  {
   "cell_type": "code",
   "execution_count": 2,
   "metadata": {},
   "outputs": [],
   "source": [
    "def is_dst(start_time, end_time, timezone='America/New_York'):\n",
    "    # localize times to the given timezone\n",
    "    tz = pytz.timezone(timezone)\n",
    "    start_local = tz.localize(start_time)\n",
    "    end_local = tz.localize(end_time)\n",
    "\n",
    "    # get UTC offsets in hours\n",
    "    start_offset = start_local.utcoffset().total_seconds() / 3600\n",
    "    end_offset = end_local.utcoffset().total_seconds() / 3600\n",
    "    \n",
    "    # check if offsets differ, which indicates a DST change\n",
    "    if start_offset != end_offset:\n",
    "        if end_offset > start_offset: # start is one hour shorter \n",
    "            return -1 # DST start\n",
    "        else:\n",
    "            return 1\n",
    "    return 0\n",
    "\n",
    "def is_valid_hour(peak_name, curr_time, holidays_arr, valid_times):\n",
    "    weekday = curr_time.weekday()\n",
    "    date = curr_time.floor('d')\n",
    "\n",
    "    # check for peaktype conditions for different weekday\n",
    "    if (peak_name == 'onpeak' or peak_name == 'offpeak') and (weekday >= 5 or date in holidays_arr):\n",
    "        return False\n",
    "    if peak_name == '2x16H' and (weekday < 5 and date not in holidays_arr):\n",
    "        return False\n",
    "    \n",
    "    # check if the current hour falls within any valid interval\n",
    "    hour =  curr_time.hour\n",
    "    for interval in valid_times:\n",
    "        start_hr, end_hr = interval\n",
    "        if start_hr <= hour < end_hr:\n",
    "            return True\n",
    "    \n",
    "    return False"
   ]
  },
  {
   "cell_type": "code",
   "execution_count": 3,
   "metadata": {},
   "outputs": [],
   "source": [
    "\n",
    "def get_hours(iso, peak_type, period):\n",
    "    peak_hours = {\n",
    "        'onpeak': [(6, 22)], # non-holiday weekday\n",
    "        'offpeak': [(0, 6), (22, 24)], # non-holiday weekday\n",
    "        'flat': [(0, 24)], # every day\n",
    "        '2x16H': [(6, 22)], # weekend and holiday\n",
    "        '7x8': [(0, 6), (22, 24)] # every day\n",
    "    }\n",
    "    \n",
    "    # parse the string 'period' to get start and end dates\n",
    "    year = int(period[:4])\n",
    "    if period[-1] == 'A':\n",
    "        start_date = pd.Timestamp(f'{year}-1-1')\n",
    "        actual_end_date = pd.Timestamp(f'{year}-12-31')\n",
    "    elif period[-2] == 'Q':\n",
    "        quarter = int(period[-1])\n",
    "        mo = 3 * (quarter - 1) + 1\n",
    "        start_date = pd.Timestamp(f'{year}-{mo}-1')\n",
    "        actual_end_date = start_date + pd.offsets.QuarterEnd()\n",
    "    elif period[-1].isalpha():\n",
    "        mo = period[-3:]\n",
    "        start_date =  pd.Timestamp(f'{year}-{mo}-1')\n",
    "        actual_end_date = start_date + pd.offsets.MonthEnd()\n",
    "    else:\n",
    "        start_date = pd.Timestamp(period)\n",
    "        actual_end_date = start_date\n",
    "\n",
    "    end_date = actual_end_date + pd.DateOffset(1)\n",
    "\n",
    "    # adjust for DST if needed\n",
    "    dst = 0\n",
    "    if iso != 'MISO' and (peak_type == 'offpeak' or peak_type == 'flat' or peak_type == '7x8') :\n",
    "        dst += is_dst(start_date, end_date)\n",
    "    \n",
    "    # find the holidays within the period\n",
    "    cal = Calendar()\n",
    "    holidays = cal.holidays(start=start_date, end=end_date)\n",
    "\n",
    "    # generate all hours in the period\n",
    "    all_date_hours = pd.date_range(start_date, end_date, freq='h')\n",
    "\n",
    "    valid_times = peak_hours[peak_type]\n",
    "    num_hours = 0\n",
    "\n",
    "    # count valid hours\n",
    "    for an_hour in all_date_hours[:-1]:\n",
    "        if is_valid_hour(peak_type, an_hour, holidays, valid_times):\n",
    "            num_hours += 1\n",
    "\n",
    "    return {\n",
    "        'iso': iso,\n",
    "        'peak_type': peak_type.upper(),\n",
    "        'startdate': start_date.strftime('%Y-%m-%d'),\n",
    "        'enddate': actual_end_date.strftime('%Y-%m-%d'),\n",
    "        'num_hours': num_hours + dst\n",
    "    }"
   ]
  },
  {
   "cell_type": "code",
   "execution_count": 4,
   "metadata": {},
   "outputs": [
    {
     "name": "stdout",
     "output_type": "stream",
     "text": [
      "{'iso': 'ERCOT', 'peak_type': 'ONPEAK', 'startdate': '2019-05-01', 'enddate': '2019-05-31', 'num_hours': 352}\n"
     ]
    }
   ],
   "source": [
    "# check for sample run\n",
    "\n",
    "results = get_hours(\"ERCOT\", \"onpeak\", \"2019May\")\n",
    "print(results)"
   ]
  },
  {
   "cell_type": "code",
   "execution_count": 5,
   "metadata": {},
   "outputs": [
    {
     "name": "stdout",
     "output_type": "stream",
     "text": [
      "{'iso': 'ERCOT', 'peak_type': 'ONPEAK', 'startdate': '2019-05-01', 'enddate': '2019-05-31', 'num_hours': 352}\n",
      "{'iso': 'ERCOT', 'peak_type': 'OFFPEAK', 'startdate': '2019-05-01', 'enddate': '2019-05-31', 'num_hours': 176}\n",
      "{'iso': 'ERCOT', 'peak_type': 'FLAT', 'startdate': '2019-05-01', 'enddate': '2019-05-31', 'num_hours': 744}\n",
      "{'iso': 'ERCOT', 'peak_type': '2X16H', 'startdate': '2019-05-01', 'enddate': '2019-05-31', 'num_hours': 144}\n",
      "{'iso': 'ERCOT', 'peak_type': '7X8', 'startdate': '2019-05-01', 'enddate': '2019-05-31', 'num_hours': 248}\n"
     ]
    }
   ],
   "source": [
    "# test cases on different peak types\n",
    "\n",
    "example_onpeak = get_hours(\"ERCOT\", \"onpeak\", \"2019May\")\n",
    "example_offpeak = get_hours(\"ERCOT\", \"offpeak\", \"2019May\")\n",
    "example_flat = get_hours(\"ERCOT\", \"flat\", \"2019May\")\n",
    "example_216 = get_hours(\"ERCOT\", \"2x16H\", \"2019May\")\n",
    "example_78 = get_hours(\"ERCOT\", \"7x8\", \"2019May\")\n",
    "\n",
    "print(example_onpeak)\n",
    "print(example_offpeak)\n",
    "print(example_flat)\n",
    "print(example_216)\n",
    "print(example_78)"
   ]
  },
  {
   "cell_type": "code",
   "execution_count": 6,
   "metadata": {},
   "outputs": [
    {
     "name": "stdout",
     "output_type": "stream",
     "text": [
      "{'iso': 'MISO', 'peak_type': 'FLAT', 'startdate': '2023-03-01', 'enddate': '2023-03-31', 'num_hours': 744}\n",
      "{'iso': 'ERCOT', 'peak_type': 'FLAT', 'startdate': '2023-03-01', 'enddate': '2023-03-31', 'num_hours': 743}\n"
     ]
    }
   ],
   "source": [
    "# MISO vs other ISO type with DST adjustment\n",
    "\n",
    "example_1 = get_hours(\"MISO\", \"flat\", \"2023Mar\")\n",
    "example_2 = get_hours(\"ERCOT\", \"flat\", \"2023Mar\")\n",
    "print(example_1)\n",
    "print(example_2)"
   ]
  }
 ],
 "metadata": {
  "kernelspec": {
   "display_name": "Python 3",
   "language": "python",
   "name": "python3"
  },
  "language_info": {
   "codemirror_mode": {
    "name": "ipython",
    "version": 3
   },
   "file_extension": ".py",
   "mimetype": "text/x-python",
   "name": "python",
   "nbconvert_exporter": "python",
   "pygments_lexer": "ipython3",
   "version": "3.10.13"
  }
 },
 "nbformat": 4,
 "nbformat_minor": 2
}
